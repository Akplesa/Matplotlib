{
 "cells": [
  {
   "cell_type": "code",
   "execution_count": null,
   "metadata": {},
   "outputs": [],
   "source": [
    "# Dependencies and Setup\n",
    "import matplotlib.pyplot as plt\n",
    "import pandas as pd\n",
    "import scipy.stats as st\n",
    "\n",
    "# Study data files\n",
    "mouse_metadata_path = \"data/Mouse_metadata.csv\"\n",
    "study_results_path = \"data/Study_results.csv\"\n",
    "\n",
    "# Read the mouse data and the study results\n",
    "mouse_metadata = pd.read_csv(mouse_metadata_path)\n",
    "study_results = pd.read_csv(study_results_path)\n",
    "\n",
    "#Combine the data into a single dataset\n",
    "#Assign Data frames\n",
    "metadata_df = pd.DataFrame(mouse_metadata, columns=[\"Mouse ID\", \"Drug Regimen\", \"Sex\", \"Age_months\", \"Weight (g)\"])\n",
    "study_results_df= pd.DataFrame(study_results, columns=[\"Mouse ID\", \"Timepoint\", \"Tumor Volume (mm3)\", \"Metastatic Sites\"])\n",
    "\n",
    "#Merge data frames using outer merge that way it returns only data that matches\n",
    "merge_df = pd.merge(metadata_df, study_results_df, on=\"Mouse ID\", how=\"inner\")\n",
    "\n",
    "#Replace any space in columns with \"_\" (this will be useful for using duplicate function)\n",
    "merge_df.columns = merge_df.columns.str.replace(' ', '_')\n",
    "\n",
    "# Display the data table for preview\n",
    "merge_df"
   ]
  },
  {
   "cell_type": "code",
   "execution_count": null,
   "metadata": {},
   "outputs": [],
   "source": [
    "merge_df.shape # 1893 rows, 8 columns\n"
   ]
  },
  {
   "cell_type": "code",
   "execution_count": null,
   "metadata": {},
   "outputs": [],
   "source": [
    "#Before beginning the analysis, check the data for any mouse ID with duplicate time points and remove any data associated with that mouse ID.\n",
    "# Find the duplicate ROWS for Mouse_ID and Timepoint in merge_df data frame+ assign variable\n",
    "dup= merge_df.duplicated(subset=['Mouse_ID', 'Timepoint']) #5 duplicates\n",
    "#Locate the duplicates\n",
    "merge_df.loc[dup,\"Mouse_ID\"]\n",
    "\n"
   ]
  },
  {
   "cell_type": "code",
   "execution_count": null,
   "metadata": {},
   "outputs": [],
   "source": [
    "#use conditional to locate all rows but g989 + assign variable\n",
    "new_data= merge_df.loc[merge_df[\"Mouse_ID\"]!= \"g989\" ]  \n"
   ]
  },
  {
   "cell_type": "code",
   "execution_count": null,
   "metadata": {},
   "outputs": [],
   "source": [
    "# Assign the new DataFrame (with the dropped Mouse_ID/Timepoint Data) a variable\n",
    "pd.DataFrame(new_data)\n"
   ]
  },
  {
   "cell_type": "code",
   "execution_count": null,
   "metadata": {},
   "outputs": [],
   "source": [
    "# Checking the number of mice in the clean DataFrame.\n",
    "number_of_mice= new_data[\"Mouse_ID\"].nunique()\n",
    "number_of_mice"
   ]
  },
  {
   "cell_type": "code",
   "execution_count": null,
   "metadata": {},
   "outputs": [],
   "source": []
  },
  {
   "cell_type": "code",
   "execution_count": null,
   "metadata": {},
   "outputs": [],
   "source": [
    "#SUMMARY STATISTICS\n",
    "# Generate a summary statistics table of mean, median, variance, standard deviation, and SEM of the tumor volume for each regimen\n",
    "# Groupby drug regimen\n",
    "Drugs= new_data.groupby(\"Drug_Regimen\")\n",
    "Drugs.head()\n",
    "Drugs.agg({\"Tumor_Volume_(mm3)\": \"count\"})\n",
    "# Collect stats and set into a data frame\n",
    "Mean= Drugs[\"Tumor_Volume_(mm3)\"].mean()\n",
    "Median= Drugs[\"Tumor_Volume_(mm3)\"].median()\n",
    "Variance= Drugs[\"Tumor_Volume_(mm3)\"].var()\n",
    "STD= Drugs[\"Tumor_Volume_(mm3)\"].std()\n",
    "SEM= Drugs[\"Tumor_Volume_(mm3)\"].sem()\n",
    "Summary_stats_table= pd.DataFrame({\"Mean\": Mean, \"Median\": Median,\n",
    "\"Variance\":Variance,\"STD\":STD, \"SEM\": SEM     \n",
    "                              })\n",
    "Summary_stats_table\n",
    "# This method is the most straighforward, creating multiple series and putting them all together at the end.\n"
   ]
  },
  {
   "cell_type": "code",
   "execution_count": null,
   "metadata": {},
   "outputs": [],
   "source": [
    "#BAR AND PIE CHARTS\n",
    "# Generate a bar plot showing the total number of mice for each treatment throughout the course of the study using pandas. \n",
    "count_drugs= new_data[\"Drug_Regimen\"].value_counts()"
   ]
  },
  {
   "cell_type": "code",
   "execution_count": null,
   "metadata": {},
   "outputs": [],
   "source": [
    "# Generate a bar plot showing the total number of mice for each treatment throughout the course of the study using pyplot.\n",
    "plt.bar(count_drugs.index.values, count_drugs.values)\n",
    "plt.xlabel('Drug Regimen')\n",
    "plt.ylabel('Total Mice')\n",
    "plt.xticks(rotation=90)\n",
    "plt.show()\n",
    "\n"
   ]
  },
  {
   "cell_type": "code",
   "execution_count": null,
   "metadata": {},
   "outputs": [],
   "source": [
    "# Generate a pie plot showing the distribution of female versus male mice using pandas\n",
    "Male_vs_Female= new_data[\"Sex\"].value_counts()\n",
    "Male_vs_Female\n",
    "Male_vs_Female.plot(kind=\"pie\")\n"
   ]
  },
  {
   "cell_type": "code",
   "execution_count": null,
   "metadata": {},
   "outputs": [],
   "source": [
    "# Generate a pie plot showing the distribution of female versus male mice using pyplot\n",
    "genders = [\"Female\", \"Male\"]\n",
    "count = [922,958]\n",
    "colors = [\"lightblue\",\"skyblue\"]\n",
    "plt.pie(count, labels=genders, colors=colors,\n",
    "        autopct=\"%1.1f%%\", shadow=True, startangle=140)\n",
    "# Create axes which are equal so we have a perfect circle\n",
    "plt.axis(\"equal\")\n",
    "plt.show()\n"
   ]
  },
  {
   "cell_type": "code",
   "execution_count": null,
   "metadata": {},
   "outputs": [],
   "source": []
  },
  {
   "cell_type": "code",
   "execution_count": null,
   "metadata": {},
   "outputs": [],
   "source": [
    "#Quartiles, Outliers and Boxplots\n",
    "# Calculate the final tumor volume of each mouse across four of the treatment regimens:  \n",
    "# Capomulin, Ramicane, Infubinol, and Ceftamin\n",
    "\n",
    "# Start by getting the last (greatest) timepoint for each mouse\n",
    "max_timepoint = new_data.groupby(['Mouse_ID'])['Timepoint'].max()\n",
    "max_timepoint = max_timepoint.reset_index()\n",
    "#Merge this group df with the original dataframe to get the tumor volume at the last timepoint\n",
    "merged_tumor_data = max_timepoint.merge(new_data,on=['Mouse_ID','Timepoint'],how=\"left\")\n",
    "merged_tumor_data\n",
    "\n"
   ]
  },
  {
   "cell_type": "code",
   "execution_count": null,
   "metadata": {},
   "outputs": [],
   "source": [
    "# Put treatments into a list for for loop (and later for plot labels)\n",
    "#Assign variables for each treatment with tumor volume according to last timepoint and\n",
    "    # locate the rows which contain mice on each drug and get the tumor volumes\n",
    "\n",
    "TV_Capomulin= merged_tumor_data.loc[merged_tumor_data['Drug_Regimen']== 'Capomulin']\n",
    "\n",
    "Drug_Capomulin= TV_Capomulin.groupby(['Mouse_ID']) ['Tumor_Volume_(mm3)'].last()\n",
    "\n",
    "\n",
    "TV_Ramicane= merged_tumor_data.loc[merged_tumor_data['Drug_Regimen']== 'Ramicane']\n",
    "Drug_Ramicane= TV_Ramicane.groupby(['Mouse_ID']) ['Tumor_Volume_(mm3)'].last()\n",
    "\n",
    "\n",
    "TV_Infubinol= merged_tumor_data.loc[merged_tumor_data['Drug_Regimen']== 'Infubinol']\n",
    "Drug_Infubinol= TV_Infubinol.groupby(['Mouse_ID']) ['Tumor_Volume_(mm3)'].last()\n",
    "\n",
    "\n",
    "TV_Ceftamin= merged_tumor_data.loc[merged_tumor_data['Drug_Regimen']== 'Ceftamin']\n",
    "Drug_Ceftamin= TV_Ceftamin.groupby(['Mouse_ID']) ['Tumor_Volume_(mm3)'].last()\n",
    "#Create the list\n",
    "\n",
    "Treatments= [Drug_Capomulin,Drug_Ramicane,Drug_Infubinol,Drug_Ceftamin ]\n",
    "\n",
    "\n",
    "# Create empty list to fill with tumor vol data (for plotting)\n",
    "Tumor_Volume=[]\n",
    "\n",
    "\n",
    "\n"
   ]
  },
  {
   "cell_type": "code",
   "execution_count": null,
   "metadata": {},
   "outputs": [],
   "source": [
    "# Calculate the IQR and quantitatively determine if there are any potential outliers: \n",
    "#FOR CAPOMULIN\n",
    "quartiles_cap = Drug_Capomulin.quantile([0.25,0.5,0.75])\n",
    "lowerq = quartiles_cap[0.25]\n",
    "upperq = quartiles_cap[0.75]\n",
    "iqr = upperq-lowerq\n",
    "print(f\"The lower quartile of tumor volume after using Capomulin is: {lowerq}\")\n",
    "print(f\"The upper quartile of tumor volume after using Capomulin is: {upperq}\")\n",
    "print(f\"The interquartile of tumor volume after using Capomulin is: {iqr}\")\n",
    "print(f\"The the median of of tumor volume after using Capomulin is: {quartiles_cap[0.5]} \")\n",
    " \n",
    "# Determine outliers using upper and lower bounds\n",
    "lower_bound = lowerq - (1.5*iqr)\n",
    "upper_bound = upperq + (1.5*iqr)\n",
    "print(f\"Values below {lower_bound} could be outliers.\")\n",
    "print(f\"Values above {upper_bound} could be outliers.\")\n",
    "\n",
    "\n",
    "\n",
    "#FOR RAMICANE\n",
    "quartiles_ram = Drug_Ramicane.quantile([0.25,0.5,0.75])\n",
    "lowerq_R = quartiles_ram[0.25]\n",
    "upperq_R = quartiles_ram[0.75]\n",
    "iqr_R = upperq_R-lowerq_R\n",
    "print(f\"The lower quartile of tumor volume after using Ramicane is: {lowerq_R}\")\n",
    "print(f\"The upper quartile of tumor volume after using Ramicane is: {upperq_R}\")\n",
    "print(f\"The interquartile of tumor volume after using Ramicane is: {iqr_R}\")\n",
    "print(f\"The the median of of tumor volume after using Ramicane is: {quartiles_ram[0.5]} \")\n",
    " \n",
    "# Determine outliers using upper and lower bounds\n",
    "lower_bound_R = lowerq_R - (1.5*iqr_R)\n",
    "upper_bound_R = upperq_R + (1.5*iqr_R)\n",
    "print(f\"Values below {lower_bound_R} could be outliers.\")\n",
    "print(f\"Values above {upper_bound_R} could be outliers.\")\n",
    "\n",
    "\n",
    "#FOR INFUBINOL\n",
    "quartiles_inf = Drug_Infubinol.quantile([0.25,0.5,0.75])\n",
    "lowerq_I = quartiles_inf[0.25]\n",
    "upperq_I = quartiles_inf[0.75]\n",
    "iqr_I = upperq_I-lowerq_I\n",
    "print(f\"The lower quartile of tumor volume after using Infubinol is: {lowerq_I}\")\n",
    "print(f\"The upper quartile of tumor volume after using Infubinol is: {upperq_I}\")\n",
    "print(f\"The interquartile of tumor volume after using Infubinol is: {iqr_I}\")\n",
    "print(f\"The the median of of tumor volume after using Infubinol is: {quartiles_inf[0.5]} \")\n",
    " \n",
    "# Determine outliers using upper and lower bounds\n",
    "lower_bound_I = lowerq_I - (1.5*iqr_I)\n",
    "upper_bound_I = upperq_I + (1.5*iqr_I)\n",
    "print(f\"Values below {lower_bound_I} could be outliers.\")\n",
    "print(f\"Values above {upper_bound_I} could be outliers.\")\n",
    "\n",
    "\n",
    "\n",
    "#FOR CEFTAMIN\n",
    "quartiles_cef = Drug_Ceftamin.quantile([0.25,0.5,0.75])\n",
    "lowerq_C = quartiles_cef[0.25]\n",
    "upperq_C = quartiles_cef[0.75]\n",
    "iqr_C = upperq_C-lowerq_C\n",
    "print(f\"The lower quartile of tumor volume after using Ceftamin is: {lowerq_C}\")\n",
    "print(f\"The upper quartile of tumor volume after using Ceftamin is: {upperq_C}\")\n",
    "print(f\"The interquartile of tumor volume after using Ceftamin is: {iqr_C}\")\n",
    "print(f\"The the median of of tumor volume after using Ceftamin is: {quartiles_cef[0.5]} \")\n",
    " \n",
    "# Determine outliers using upper and lower bounds\n",
    "lower_bound_C = lowerq_C - (1.5*iqr_C)\n",
    "upper_bound_C = upperq_C + (1.5*iqr_C)\n",
    "print(f\"Values below {lower_bound_C} could be outliers.\")\n",
    "print(f\"Values above {upper_bound_C} could be outliers.\")\n",
    "\n",
    "    "
   ]
  },
  {
   "cell_type": "code",
   "execution_count": null,
   "metadata": {},
   "outputs": [],
   "source": [
    "# Generate a box plot of the final tumor volume of each mouse across four regimens of interest\n",
    "fig1, ax= plt.subplots()\n",
    "ax.boxplot(Drug_Capomulin, positions= [1], widths= 0.5)\n",
    "ax.boxplot(Drug_Ramicane, positions= [2], widths= 0.5)\n",
    "ax.boxplot(Drug_Infubinol, positions= [3], widths= 0.5)\n",
    "ax.boxplot(Drug_Ceftamin, positions= [4], widths= 0.5)\n",
    "ax.set_xticklabels(['Capomulin', 'Ramicane' ,'Infubinol' ,'Ceftamin'])\n",
    "ax.set_ylabel('Tumor_Volume_(mm3')\n",
    "\n",
    "plt.show()\n"
   ]
  },
  {
   "cell_type": "code",
   "execution_count": null,
   "metadata": {},
   "outputs": [],
   "source": [
    "#LINE AND SCATTER PLOTS\n",
    "# Generate a line plot of time point versus tumor volume for a mouse treated with Capomulin\n",
    "#use :\n",
    "#TV_Capomulin= merged_tumor_data.loc[merged_tumor_data['Drug_Regimen']== 'Capomulin']\n",
    "#Drug_Capomulin= TV_Capomulin.groupby(['Mouse_ID']=='k403' ) \n",
    "\n",
    "import numpy as np\n",
    "time= np.arange(0 ,101, 10)\n",
    "y_axis=[45,39,35,34,33,33,31,27,24,22]\n",
    "\n",
    "x_axis= [0,5,10,15,20,25,30,35,40,45]\n",
    "plt.plot(x_axis, y_axis)\n",
    "plt.ylabel(\"Tumor_Volume_(mm3)\")\n",
    "plt.xlabel(\"Timepoint\")\n",
    "plt.title(\"Tumor Volume over Time for mouse k403 treated with Capomulin \")\n",
    "plt.show()\n"
   ]
  },
  {
   "cell_type": "code",
   "execution_count": null,
   "metadata": {},
   "outputs": [],
   "source": [
    "# Generate a scatter plot of mouse weight versus average tumor volume for the Capomulin regimen\n",
    "#Use TV_Capomulin to find exact points\n",
    "Weight= [22,21,17,19,22,24,20,23,21,21,19,17,19,25,17,25,17,23,17,17,21,23,21,15,17]\n",
    "Tumor_V=[39,39,39,37,40,47,37,38,39,41,39,28,33,46,32,41,23,41,34,31,41,40,36,28,31]\n",
    "plt.scatter(Weight, Tumor_V, marker=\"o\", facecolors=\"indigo\", edgecolors=\"black\", s=x_axis, alpha=0.75)\n",
    "plt.ylabel(\"Tumor_Volume_(mm3)\")\n",
    "plt.xlabel(\"Weight\")\n",
    "plt.title(\"Mice Weights v.s Tumor Volume for Capomulin Regimen\")\n",
    "plt.show()"
   ]
  },
  {
   "cell_type": "code",
   "execution_count": 6,
   "metadata": {},
   "outputs": [
    {
     "ename": "TypeError",
     "evalue": "can't multiply sequence by non-int of type 'numpy.float64'",
     "output_type": "error",
     "traceback": [
      "\u001b[0;31m---------------------------------------------------------------------------\u001b[0m",
      "\u001b[0;31mTypeError\u001b[0m                                 Traceback (most recent call last)",
      "\u001b[0;32m<ipython-input-6-6a964f786e2b>\u001b[0m in \u001b[0;36m<module>\u001b[0;34m\u001b[0m\n\u001b[1;32m      3\u001b[0m \u001b[0mTumor_V\u001b[0m\u001b[0;34m=\u001b[0m\u001b[0;34m[\u001b[0m\u001b[0;36m39\u001b[0m\u001b[0;34m,\u001b[0m\u001b[0;36m39\u001b[0m\u001b[0;34m,\u001b[0m\u001b[0;36m39\u001b[0m\u001b[0;34m,\u001b[0m\u001b[0;36m37\u001b[0m\u001b[0;34m,\u001b[0m\u001b[0;36m40\u001b[0m\u001b[0;34m,\u001b[0m\u001b[0;36m47\u001b[0m\u001b[0;34m,\u001b[0m\u001b[0;36m37\u001b[0m\u001b[0;34m,\u001b[0m\u001b[0;36m38\u001b[0m\u001b[0;34m,\u001b[0m\u001b[0;36m39\u001b[0m\u001b[0;34m,\u001b[0m\u001b[0;36m41\u001b[0m\u001b[0;34m,\u001b[0m\u001b[0;36m39\u001b[0m\u001b[0;34m,\u001b[0m\u001b[0;36m28\u001b[0m\u001b[0;34m,\u001b[0m\u001b[0;36m33\u001b[0m\u001b[0;34m,\u001b[0m\u001b[0;36m46\u001b[0m\u001b[0;34m,\u001b[0m\u001b[0;36m32\u001b[0m\u001b[0;34m,\u001b[0m\u001b[0;36m41\u001b[0m\u001b[0;34m,\u001b[0m\u001b[0;36m23\u001b[0m\u001b[0;34m,\u001b[0m\u001b[0;36m41\u001b[0m\u001b[0;34m,\u001b[0m\u001b[0;36m34\u001b[0m\u001b[0;34m,\u001b[0m\u001b[0;36m31\u001b[0m\u001b[0;34m,\u001b[0m\u001b[0;36m41\u001b[0m\u001b[0;34m,\u001b[0m\u001b[0;36m40\u001b[0m\u001b[0;34m,\u001b[0m\u001b[0;36m36\u001b[0m\u001b[0;34m,\u001b[0m\u001b[0;36m28\u001b[0m\u001b[0;34m,\u001b[0m\u001b[0;36m31\u001b[0m\u001b[0;34m]\u001b[0m\u001b[0;34m\u001b[0m\u001b[0;34m\u001b[0m\u001b[0m\n\u001b[1;32m      4\u001b[0m \u001b[0;34m(\u001b[0m\u001b[0mslope\u001b[0m\u001b[0;34m,\u001b[0m \u001b[0mintercept\u001b[0m\u001b[0;34m,\u001b[0m \u001b[0mrvalue\u001b[0m\u001b[0;34m,\u001b[0m \u001b[0mpvalue\u001b[0m\u001b[0;34m,\u001b[0m \u001b[0mstderr\u001b[0m\u001b[0;34m)\u001b[0m \u001b[0;34m=\u001b[0m \u001b[0mlinregress\u001b[0m\u001b[0;34m(\u001b[0m\u001b[0mWeight\u001b[0m\u001b[0;34m,\u001b[0m \u001b[0mTumor_V\u001b[0m\u001b[0;34m)\u001b[0m\u001b[0;34m\u001b[0m\u001b[0;34m\u001b[0m\u001b[0m\n\u001b[0;32m----> 5\u001b[0;31m \u001b[0mregress_values\u001b[0m \u001b[0;34m=\u001b[0m \u001b[0mWeight\u001b[0m \u001b[0;34m*\u001b[0m \u001b[0mslope\u001b[0m \u001b[0;34m+\u001b[0m \u001b[0mintercept\u001b[0m\u001b[0;34m\u001b[0m\u001b[0;34m\u001b[0m\u001b[0m\n\u001b[0m\u001b[1;32m      6\u001b[0m \u001b[0mline_eq\u001b[0m \u001b[0;34m=\u001b[0m \u001b[0;34m\"y = \"\u001b[0m \u001b[0;34m+\u001b[0m \u001b[0mstr\u001b[0m\u001b[0;34m(\u001b[0m\u001b[0mround\u001b[0m\u001b[0;34m(\u001b[0m\u001b[0mslope\u001b[0m\u001b[0;34m,\u001b[0m\u001b[0;36m2\u001b[0m\u001b[0;34m)\u001b[0m\u001b[0;34m)\u001b[0m \u001b[0;34m+\u001b[0m \u001b[0;34m\"x + \"\u001b[0m \u001b[0;34m+\u001b[0m \u001b[0mstr\u001b[0m\u001b[0;34m(\u001b[0m\u001b[0mround\u001b[0m\u001b[0;34m(\u001b[0m\u001b[0mintercept\u001b[0m\u001b[0;34m,\u001b[0m\u001b[0;36m2\u001b[0m\u001b[0;34m)\u001b[0m\u001b[0;34m)\u001b[0m\u001b[0;34m\u001b[0m\u001b[0;34m\u001b[0m\u001b[0m\n\u001b[1;32m      7\u001b[0m \u001b[0mplt\u001b[0m\u001b[0;34m.\u001b[0m\u001b[0mscatter\u001b[0m\u001b[0;34m(\u001b[0m\u001b[0mWeight\u001b[0m\u001b[0;34m,\u001b[0m\u001b[0mTumor_V\u001b[0m\u001b[0;34m)\u001b[0m\u001b[0;34m\u001b[0m\u001b[0;34m\u001b[0m\u001b[0m\n",
      "\u001b[0;31mTypeError\u001b[0m: can't multiply sequence by non-int of type 'numpy.float64'"
     ]
    }
   ],
   "source": [
    "from scipy.stats import linregress\n",
    "Weight= [22,21,17,19,22,24,20,23,21,21,19,17,19,25,17,25,17,23,17,17,21,23,21,15,17]\n",
    "Tumor_V=[39,39,39,37,40,47,37,38,39,41,39,28,33,46,32,41,23,41,34,31,41,40,36,28,31]\n",
    "(slope, intercept, rvalue, pvalue, stderr) = linregress(Weight, Tumor_V)\n",
    "regress_values = Weight * slope + intercept\n",
    "line_eq = \"y = \" + str(round(slope,2)) + \"x + \" + str(round(intercept,2))\n",
    "plt.scatter(Weight,Tumor_V)\n",
    "plt.plot(Weight,regress_values,\"r-\")\n",
    "plt.annotate(line_eq,(6,10),fontsize=15,color=\"red\")\n",
    "plt.ylabel(\"Tumor_Volume_(mm3)\")\n",
    "plt.xlabel(\"Weight\")\n",
    "plt.show()"
   ]
  },
  {
   "cell_type": "code",
   "execution_count": null,
   "metadata": {},
   "outputs": [],
   "source": []
  },
  {
   "cell_type": "code",
   "execution_count": null,
   "metadata": {},
   "outputs": [],
   "source": []
  }
 ],
 "metadata": {
  "kernelspec": {
   "display_name": "Python 3",
   "language": "python",
   "name": "python3"
  },
  "language_info": {
   "codemirror_mode": {
    "name": "ipython",
    "version": 3
   },
   "file_extension": ".py",
   "mimetype": "text/x-python",
   "name": "python",
   "nbconvert_exporter": "python",
   "pygments_lexer": "ipython3",
   "version": "3.7.6"
  }
 },
 "nbformat": 4,
 "nbformat_minor": 4
}
