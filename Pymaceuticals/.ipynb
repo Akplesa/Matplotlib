{
 "cells": [
  {
   "cell_type": "code",
   "execution_count": null,
   "metadata": {},
   "outputs": [],
   "source": [
    "# Dependencies and Setup\n",
    "import matplotlib.pyplot as plt\n",
    "import pandas as pd\n",
    "import scipy.stats as st\n",
    "\n",
    "# Study data files\n",
    "mouse_metadata_path = \"data/Mouse_metadata.csv\"\n",
    "study_results_path = \"data/Study_results.csv\"\n",
    "\n",
    "# Read the mouse data and the study results\n",
    "mouse_metadata = pd.read_csv(mouse_metadata_path)\n",
    "study_results = pd.read_csv(study_results_path)\n",
    "\n",
    "#Combine the data into a single dataset\n",
    "#Assign Data frames\n",
    "metadata_df = pd.DataFrame(mouse_metadata, columns=[\"Mouse ID\", \"Drug Regimen\", \"Sex\", \"Age_months\", \"Weight (g)\"])\n",
    "study_results_df= pd.DataFrame(study_results, columns=[\"Mouse ID\", \"Timepoint\", \"Tumor Volume (mm3)\", \"Metastatic Sites\"])\n",
    "\n",
    "#Merge data frames using outer merge that way it returns only data that matches\n",
    "merge_df = pd.merge(metadata_df, study_results_df, on=\"Mouse ID\", how=\"inner\")\n",
    "\n",
    "#Replace any space in columns with \"_\" (this will be useful for using duplicate function)\n",
    "merge_df.columns = merge_df.columns.str.replace(' ', '_')\n",
    "\n",
    "# Display the data table for preview\n",
    "merge_df"
   ]
  },
  {
   "cell_type": "code",
   "execution_count": null,
   "metadata": {},
   "outputs": [],
   "source": [
    "merge_df.shape # 1893 rows, 8 columns"
   ]
  },
  {
   "cell_type": "code",
   "execution_count": null,
   "metadata": {},
   "outputs": [],
   "source": [
    "#Before beginning the analysis, check the data for any mouse ID with duplicate time points and remove any data associated with that mouse ID.\n",
    "# Find the duplicate ROWS for Mouse_ID and Timepoint in merge_df data frame+ assign variable\n",
    "dup= merge_df.duplicated(subset=['Mouse_ID', 'Timepoint']) #5 duplicates\n",
    "#Locate the duplicates\n",
    "merge_df.loc[dup,\"Mouse_ID\"]\n",
    "\n"
   ]
  },
  {
   "cell_type": "code",
   "execution_count": null,
   "metadata": {},
   "outputs": [],
   "source": [
    "#use conditional to locate all rows but g989 + assign variable\n",
    "new_data= merge_df.loc[merge_df[\"Mouse_ID\"]!= \"g989\" ]  \n"
   ]
  },
  {
   "cell_type": "code",
   "execution_count": null,
   "metadata": {},
   "outputs": [],
   "source": [
    "# Assign the new DataFrame (with the dropped Mouse_ID/Timepoint Data) a variable\n",
    "pd.DataFrame(new_data)"
   ]
  },
  {
   "cell_type": "code",
   "execution_count": null,
   "metadata": {},
   "outputs": [],
   "source": [
    "# Create a clean DataFrame by dropping the duplicate mouse by its ID.\n",
    "new_data.drop_duplicates(subset=['Mouse_ID'])"
   ]
  },
  {
   "cell_type": "code",
   "execution_count": null,
   "metadata": {},
   "outputs": [],
   "source": [
    "# Checking the number of mice in the clean DataFrame.\n",
    "number_of_mice= new_data[\"Mouse_ID\"].nunique()\n",
    "number_of_mice"
   ]
  },
  {
   "cell_type": "code",
   "execution_count": null,
   "metadata": {},
   "outputs": [],
   "source": [
    "#SUMMARY STATISTICS\n",
    "# Generate a summary statistics table of mean, median, variance, standard deviation, and SEM of the tumor volume for each regimen\n",
    "# Groupby drug regimen\n",
    "Drugs= new_data.groupby(\"Drug_Regimen\")\n",
    "Drugs.head()\n",
    "Drugs.agg({\"Tumor_Volume_(mm3)\": \"count\"})\n",
    "# Collect stats and set into a data frame\n",
    "Mean= Drugs[\"Tumor_Volume_(mm3)\"].mean()\n",
    "Median= Drugs[\"Tumor_Volume_(mm3)\"].median()\n",
    "Variance= Drugs[\"Tumor_Volume_(mm3)\"].var()\n",
    "STD= Drugs[\"Tumor_Volume_(mm3)\"].std()\n",
    "SEM= Drugs[\"Tumor_Volume_(mm3)\"].sem()\n",
    "Summary_stats_table= pd.DataFrame({\"Mean\": Mean, \"Median\": Median,\n",
    "\"Variance\":Variance,\"STD\":STD, \"SEM\": SEM     \n",
    "                              })\n",
    "Summary_stats_table\n",
    "# This method is the most straighforward, creating multiple series and putting them all together at the end.\n"
   ]
  },
  {
   "cell_type": "code",
   "execution_count": null,
   "metadata": {},
   "outputs": [],
   "source": [
    "#BAR AND PIE CHARTS"
   ]
  },
  {
   "cell_type": "code",
   "execution_count": null,
   "metadata": {},
   "outputs": [],
   "source": [
    "# Generate a bar plot showing the total number of mice for each treatment throughout the course of the study using pandas. \n",
    "count_drugs= clean_data[\"Drug_Regimen\"].value_counts()\n"
   ]
  },
  {
   "cell_type": "code",
   "execution_count": null,
   "metadata": {},
   "outputs": [],
   "source": [
    "# Generate a bar plot showing the total number of mice for each treatment throughout the course of the study using pyplot.\n",
    "plt.bar(count_drugs.index.values, count_drugs.values)\n",
    "plt.xlabel('Drug Regimen')\n",
    "plt.ylabel('Total Mice')\n",
    "plt.xticks(rotation=90)\n",
    "plt.show()\n"
   ]
  },
  {
   "cell_type": "code",
   "execution_count": null,
   "metadata": {},
   "outputs": [],
   "source": [
    "# Generate a pie plot showing the distribution of female versus male mice using pandas\n",
    "Male_vs_Female= clean_data[\"Sex\"].value_counts()\n",
    "\n",
    "Male_vs_Female.plot(kind=\"pie\")"
   ]
  }
 ],
 "metadata": {
  "kernelspec": {
   "display_name": "Python 3",
   "language": "python",
   "name": "python3"
  },
  "language_info": {
   "codemirror_mode": {
    "name": "ipython",
    "version": 3
   },
   "file_extension": ".py",
   "mimetype": "text/x-python",
   "name": "python",
   "nbconvert_exporter": "python",
   "pygments_lexer": "ipython3",
   "version": "3.8.3"
  }
 },
 "nbformat": 4,
 "nbformat_minor": 4
}
