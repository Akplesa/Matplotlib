{
 "cells": [
  {
   "cell_type": "code",
   "execution_count": null,
   "metadata": {},
   "outputs": [],
   "source": [
    "# Dependencies and Setup\n",
    "import matplotlib.pyplot as plt\n",
    "import pandas as pd\n",
    "import scipy.stats as st\n",
    "\n",
    "# Study data files\n",
    "mouse_metadata_path = \"data/Mouse_metadata.csv\"\n",
    "study_results_path = \"data/Study_results.csv\"\n",
    "\n",
    "# Read the mouse data and the study results\n",
    "mouse_metadata = pd.read_csv(mouse_metadata_path)\n",
    "study_results = pd.read_csv(study_results_path)\n",
    "\n",
    "#Combine the data into a single dataset\n",
    "#Assign Data frames\n",
    "metadata_df = pd.DataFrame(mouse_metadata, columns=[\"Mouse ID\", \"Drug Regimen\", \"Sex\", \"Age_months\", \"Weight (g)\"])\n",
    "study_results_df= pd.DataFrame(study_results, columns=[\"Mouse ID\", \"Timepoint\", \"Tumor Volume (mm3)\", \"Metastatic Sites\"])\n",
    "\n",
    "#Merge data frames using outer merge that way it returns only data that matches\n",
    "merge_df = pd.merge(metadata_df, study_results_df, on=\"Mouse ID\", how=\"inner\")\n",
    "\n",
    "#Replace any space in columns with \"_\" (this will be useful for using duplicate function)\n",
    "merge_df.columns = merge_df.columns.str.replace(' ', '_')\n",
    "\n",
    "# Display the data table for preview\n",
    "merge_df"
   ]
  },
  {
   "cell_type": "code",
   "execution_count": null,
   "metadata": {},
   "outputs": [],
   "source": [
    "#Before beginning the analysis, check the data for any mouse ID with duplicate time points and remove any data associated with that mouse ID.\n",
    "#First, I would like to see the amount of rows and columns in my merged data by using Shape function\n",
    "merge_df.shape # 1893 rows, 8 columns\n",
    "#Next, I will find the duplicate ROWS for Mouse_ID and Timepoint in merge_df data frame\n",
    "merge_df.duplicated(subset=['Mouse_ID', 'Timepoint']).sum() #5 duplicates\n",
    "#Locate the duplicates and mark them as TRUE except for the First occurance\n",
    "merge_df.loc[merge_df.duplicated(subset=['Mouse_ID','Timepoint'], keep='first'), :]\n",
    "#Drop duplicate except for first occurance \n",
    "merge_df.drop_duplicates(subset=['Mouse_ID','Timepoint'], keep='first').shape #now we have 1888 rows\n"
   ]
  },
  {
   "cell_type": "code",
   "execution_count": null,
   "metadata": {},
   "outputs": [],
   "source": [
    "# Create a clean DataFrame by dropping the duplicate mouse by its ID.\n",
    "# Assign the new DataFrame with the dropped Mouse_ID/Timepoint Data a variable\n",
    "Data_dropped= merge_df.drop_duplicates(subset=['Mouse_ID','Timepoint'], keep='first')\n",
    "#Count the number of duplicate Mouse IDs + assign variable/drop duplicates\n",
    "Data_dropped.Mouse_ID.duplicated().sum() #We have 1639 Mouse_ID duplicates\n",
    "Dropped_mice= Data_dropped.Mouse_ID.drop_duplicates(keep='first')\n",
    "\n"
   ]
  },
  {
   "cell_type": "code",
   "execution_count": null,
   "metadata": {},
   "outputs": [],
   "source": [
    "# Checking the number of mice in the clean DataFrame.\n",
    "Dropped_mice.shape "
   ]
  }
 ],
 "metadata": {
  "kernelspec": {
   "display_name": "Python 3",
   "language": "python",
   "name": "python3"
  },
  "language_info": {
   "codemirror_mode": {
    "name": "ipython",
    "version": 3
   },
   "file_extension": ".py",
   "mimetype": "text/x-python",
   "name": "python",
   "nbconvert_exporter": "python",
   "pygments_lexer": "ipython3",
   "version": "3.7.6"
  }
 },
 "nbformat": 4,
 "nbformat_minor": 4
}
